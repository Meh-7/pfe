{
 "cells": [
  {
   "cell_type": "code",
   "execution_count": 1,
   "metadata": {},
   "outputs": [
    {
     "name": "stdout",
     "output_type": "stream",
     "text": [
      "Saved box plot to: figures\\boxplots2\\boxplot_M1_200.png\n",
      "Saved box plot to: figures\\boxplots2\\boxplot_M1_500.png\n",
      "Saved box plot to: figures\\boxplots2\\boxplot_M1_1000.png\n",
      "Saved box plot to: figures\\boxplots2\\boxplot_M2_200.png\n",
      "Saved box plot to: figures\\boxplots2\\boxplot_M2_500.png\n",
      "Saved box plot to: figures\\boxplots2\\boxplot_M2_1000.png\n",
      "Saved box plot to: figures\\boxplots2\\boxplot_M3_200.png\n",
      "Saved box plot to: figures\\boxplots2\\boxplot_M3_500.png\n",
      "Saved box plot to: figures\\boxplots2\\boxplot_M3_1000.png\n",
      "Saved box plot to: figures\\boxplots2\\boxplot_M4_200.png\n",
      "Saved box plot to: figures\\boxplots2\\boxplot_M4_500.png\n",
      "Saved box plot to: figures\\boxplots2\\boxplot_M4_1000.png\n"
     ]
    }
   ],
   "source": [
    "import os\n",
    "import pandas as pd\n",
    "import numpy as np\n",
    "import matplotlib.pyplot as plt\n",
    "\n",
    "# Define the folders for figures, estimations, and real parameters\n",
    "figures_folder = os.path.join(\"figures\", \"boxplots2\")\n",
    "\n",
    "replications_folder = \"replications/parameters\"\n",
    "\n",
    "# Create the figures folder if it doesn't exist\n",
    "os.makedirs(figures_folder, exist_ok=True)\n",
    "\n",
    "# Define the sizes of the series\n",
    "\n",
    "sizes = [200, 500, 1000]\n",
    "models = ['M1', 'M2', 'M3', 'M4']\n",
    "\n",
    "for model in models:\n",
    "   estimation_folder = f\"estimation/{model}\"\n",
    "   # Loop through the sizes and generate boxplots\n",
    "   for size in sizes:\n",
    "      # Load the estimated parameters\n",
    "      df_estimated = pd.read_csv(f\"{estimation_folder}/theta_hat_{model}_{size}.csv\", header=None)\n",
    "\n",
    "      # Load the real parameters\n",
    "      df_real = pd.read_csv(f\"{replications_folder}/real_parameters_{model}.csv\", header=None)\n",
    "\n",
    "      # Create a figure and axes for the boxplots\n",
    "      num_params = df_estimated.shape[1]\n",
    "      fig, axs = plt.subplots(num_params, 1, figsize=(8, 2 * num_params -5), sharex=True)\n",
    "      \n",
    "      fig.suptitle(f\"{model} (n = {size})\", fontsize=16)  # Set overall title\n",
    "\n",
    "      # Loop through each parameter and create a subplot\n",
    "      for i in range(num_params):\n",
    "         # Create the boxplot on the current subplot\n",
    "         axs[i].boxplot(df_estimated.iloc[:, i], vert=False, patch_artist=True, showfliers=False)\n",
    "\n",
    "         # Add a line for the real parameter value\n",
    "         axs[i].axvline(df_real.iloc[i, 0], color='red', linestyle='--', label='Vraie Valeur')\n",
    "\n",
    "         # Set the subplot title\n",
    "         axs[i].set_title(f\"theta {i + 1}\")\n",
    "         \n",
    "      # Create a single legend for the entire figure WITH RED DASHED LINE\n",
    "      handles, labels = axs[0].get_legend_handles_labels()  # Get default handles and labels\n",
    "      handles = [plt.Line2D([], [], color='red', linestyle='--')] # Create custom handle\n",
    "      labels = ['Vraie Valeur'] # Set label\n",
    "      fig.legend(handles, labels, loc='upper right') \n",
    "\n",
    "      # Set the x-axis label for the entire figure \n",
    "      fig.text(0.5, 0.04, 'Valeurs', ha='center', va='center')\n",
    "\n",
    "      # Fine-tune spacing \n",
    "      plt.subplots_adjust(hspace=0.2, bottom=0.06)  # Adjust values as needed\n",
    "\n",
    "      # Save the plot to the figures folder\n",
    "      plot_filename = f\"boxplot_{model}_{size}.png\"\n",
    "      plot_filepath = os.path.join(figures_folder, plot_filename)\n",
    "      plt.savefig(plot_filepath)\n",
    "      plt.close(fig)\n",
    "\n",
    "      print(f\"Saved box plot to: {plot_filepath}\")"
   ]
  },
  {
   "cell_type": "code",
   "execution_count": null,
   "metadata": {},
   "outputs": [],
   "source": []
  },
  {
   "cell_type": "code",
   "execution_count": null,
   "metadata": {},
   "outputs": [],
   "source": []
  }
 ],
 "metadata": {
  "kernelspec": {
   "display_name": "base",
   "language": "python",
   "name": "python3"
  },
  "language_info": {
   "codemirror_mode": {
    "name": "ipython",
    "version": 3
   },
   "file_extension": ".py",
   "mimetype": "text/x-python",
   "name": "python",
   "nbconvert_exporter": "python",
   "pygments_lexer": "ipython3",
   "version": "3.11.5"
  }
 },
 "nbformat": 4,
 "nbformat_minor": 2
}
