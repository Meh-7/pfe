{
 "cells": [
  {
   "cell_type": "code",
   "execution_count": null,
   "metadata": {},
   "outputs": [],
   "source": [
    "import pandas as pd\n",
    "import os"
   ]
  },
  {
   "cell_type": "code",
   "execution_count": null,
   "metadata": {},
   "outputs": [],
   "source": [
    "base_folder = \"estimation\"  # Or wherever your data is stored\n",
    "sizes = [200, 500, 1000]\n",
    "\n",
    "for model in parameters:\n",
    "    all_data = []  # List to store DataFrames for different sizes\n",
    "\n",
    "    for size in sizes:\n",
    "        # Load existing DataFrame for the current size\n",
    "        size_folder = os.path.join(base_folder, model, f\"size_{size}\")\n",
    "        estimstat_filename = f\"estimstat_{model}_{size}.csv\"\n",
    "        estimstat_filepath = os.path.join(size_folder, estimstat_filename)\n",
    "        estimstat_df = pd.read_csv(estimstat_filepath)\n",
    "\n",
    "        # Add a 'Size' column to the DataFrame\n",
    "        estimstat_df['Size'] = size  \n",
    "\n",
    "        # Append the DataFrame to the list\n",
    "        all_data.append(estimstat_df)\n",
    "\n",
    "    # Concatenate all DataFrames into a single DataFrame\n",
    "    combined_df = pd.concat(all_data, ignore_index=True) \n",
    "\n",
    "    # Save the combined DataFrame to a new CSV file\n",
    "    combined_filename = f\"combined_data_{model}.csv\"\n",
    "    combined_filepath = os.path.join(base_folder, model, combined_filename)\n",
    "    combined_df.to_csv(combined_filepath, index=False)  \n",
    "\n",
    "    print(f\"Combined data for model {model} saved to: {combined_filepath}\")"
   ]
  }
 ],
 "metadata": {
  "language_info": {
   "name": "python"
  }
 },
 "nbformat": 4,
 "nbformat_minor": 2
}
