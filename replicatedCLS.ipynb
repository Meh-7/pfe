{
 "cells": [
  {
   "cell_type": "code",
   "execution_count": 1,
   "metadata": {},
   "outputs": [],
   "source": [
    "import numpy as np\n",
    "import pandas as pd\n",
    "from myfunctions import BPstar\n",
    "from myfunctions import BPstarmodel\n",
    "import matplotlib.pyplot as plt\n",
    "import os\n",
    "from est_model import estimate_model"
   ]
  },
  {
   "cell_type": "markdown",
   "metadata": {},
   "source": [
    "# Initialisation, simulation, et replications"
   ]
  },
  {
   "cell_type": "markdown",
   "metadata": {},
   "source": [
    "works well:\n",
    "#initialisations des parametres du modele pour simulation\n",
    "A = np.array([[0.2, 0],[0, 0.4]])\n",
    "B = np.array([[0.5, 0],[0, 0.3]])\n",
    "omeg = np.array([0.3, 0.5])\n",
    "delt = 0.7\n",
    "n = 500 #longeure de la trajectoire"
   ]
  },
  {
   "cell_type": "markdown",
   "metadata": {},
   "source": [
    "## Simulation d'une trajectoire"
   ]
  },
  {
   "cell_type": "markdown",
   "metadata": {},
   "source": [
    "### Paramètres de la simulation:"
   ]
  },
  {
   "cell_type": "raw",
   "metadata": {
    "vscode": {
     "languageId": "raw"
    }
   },
   "source": [
    "#initialisations des parametres du modele pour simulation\n",
    "A = np.array([[0.3, 0.2],[0.1, 0.3]])\n",
    "B = np.array([[0.1, 0.2],[0.3, 0.2]])\n",
    "omeg = np.array([0.5, 0.3])\n",
    "delt = 0.4\n",
    "n = 200 #longeure de la trajectoire"
   ]
  },
  {
   "cell_type": "raw",
   "metadata": {
    "vscode": {
     "languageId": "raw"
    }
   },
   "source": [
    "y = BPstarmodel(A, B, omeg, n, delt) #simuler une trajectoire"
   ]
  },
  {
   "cell_type": "raw",
   "metadata": {
    "vscode": {
     "languageId": "raw"
    }
   },
   "source": [
    "np.savetxt(\"databp.csv\", y.T, delimiter=\",\")"
   ]
  },
  {
   "cell_type": "markdown",
   "metadata": {},
   "source": [
    "#### Graphes"
   ]
  },
  {
   "cell_type": "raw",
   "metadata": {
    "vscode": {
     "languageId": "raw"
    }
   },
   "source": [
    "#graphe des series superposees\n",
    "plt.figure(figsize=(12, 6))\n",
    "plt.plot(y[0,:], label='Y1', marker='x', linestyle='-', color='b', alpha=0.7, markersize = 4)\n",
    "plt.plot(y[1,:], label='Y2', marker='s', linestyle='-', color='orange', alpha=0.7, markersize = 4)\n",
    "plt.legend()\n",
    "plt.grid(True)\n",
    "plt.show()"
   ]
  },
  {
   "cell_type": "raw",
   "metadata": {
    "vscode": {
     "languageId": "raw"
    }
   },
   "source": [
    "#graphe des series separees\n",
    "fig, axs = plt.subplots(2, 1, figsize=(6, 3), sharex=True) #division de la figure en 2 lignes une colonne\n",
    "#sharex: les figures partagent le meme axe des x\n",
    "\n",
    "#Variable 1\n",
    "axs[0].plot(y[0,:], label='Y1', marker='o', linestyle='-', color='blue', alpha=0.7, markersize = 2)\n",
    "axs[0].grid(True)\n",
    "axs[0].set_title('Y1')\n",
    "#Variable 2\n",
    "axs[1].plot(y[1,:], label='Y2', marker='o', linestyle='-', color='red', alpha=0.7, markersize = 2)\n",
    "axs[1].grid(True)\n",
    "axs[1].set_title('Y2')\n",
    "\n",
    "plt.tight_layout()\n",
    "plt.show()"
   ]
  },
  {
   "cell_type": "markdown",
   "metadata": {},
   "source": [
    "\n",
    "## Replications\n"
   ]
  },
  {
   "cell_type": "code",
   "execution_count": 2,
   "metadata": {},
   "outputs": [],
   "source": [
    "parameters = {\n",
    "    'M1': {\n",
    "        'A': np.array([[0.3, 0.2], [0.1, 0.3]]),\n",
    "        'B': np.array([[0.1, 0.2], [0.3, 0.2]]),\n",
    "        'omeg': np.array([0.5, 0.3]),\n",
    "        'delt': 0.4\n",
    "        \n",
    "    },\n",
    "    'M2': {\n",
    "        'A': np.array([[0.2, 0], [0, 0.4]]),\n",
    "        'B': np.array([[0.5, 0], [0, 0.3]]),\n",
    "        'omeg': np.array([0.3, 0.5]),\n",
    "        'delt': 0.7\n",
    "    },\n",
    "    'M3': {\n",
    "        'A': np.array([[0.2, 0.0], [0.0, 0.4]]),\n",
    "        'B': np.array([[0.5, 0.1], [0.3, 0.2]]),\n",
    "        'omeg': np.array([0.3, 0.5]),\n",
    "        'delt': 0.7\n",
    "    },\n",
    "    'M4': {\n",
    "        'A': np.array([[0.2, 0.3], [0.4, 0.2]]),\n",
    "        'B': np.array([[0.2, 0], [0, 0.3]]),\n",
    "        'omeg': np.array([0.5, 0.3]),\n",
    "        'delt': -0.5\n",
    "    }\n",
    "}"
   ]
  },
  {
   "cell_type": "code",
   "execution_count": 3,
   "metadata": {},
   "outputs": [
    {
     "name": "stdout",
     "output_type": "stream",
     "text": [
      "[0.5, 0.3, 0.2, 0.1, 0.2, 0.3, 0.1, 0.3, 0.3, 0.2]\n",
      "[0.3, 0.2, 0.0, 0.5, 0.0, 0.5, 0.0, 0.4, 0.0, 0.3]\n",
      "[0.3, 0.2, 0.0, 0.5, 0.1, 0.5, 0.0, 0.4, 0.3, 0.2]\n",
      "[0.5, 0.2, 0.3, 0.2, 0.0, 0.3, 0.4, 0.2, 0.0, 0.3]\n"
     ]
    }
   ],
   "source": [
    "for model_name in parameters:\n",
    "    parameters[model_name]['real_params'] = [\n",
    "        parameters[model_name]['omeg'][0],\n",
    "        *parameters[model_name]['A'][0],\n",
    "        *parameters[model_name]['B'][0],\n",
    "        parameters[model_name]['omeg'][1],\n",
    "        *parameters[model_name]['A'][1],\n",
    "        *parameters[model_name]['B'][1]\n",
    "    ] \n",
    "    print(parameters[model_name]['real_params'])"
   ]
  },
  {
   "cell_type": "code",
   "execution_count": 4,
   "metadata": {},
   "outputs": [],
   "source": [
    "model_specs = {\n",
    "    'M1': {'indices': range(10)},\n",
    "    'M2': {'indices': [0, 1, 3, 5, 7, 9]},\n",
    "    'M3': {'indices': [0, 1, 3, 4, 5, 7, 8, 9]},\n",
    "    'M4': {'indices': [0, 1, 2, 3, 5, 6, 7, 9]}\n",
    "}"
   ]
  },
  {
   "cell_type": "raw",
   "metadata": {
    "vscode": {
     "languageId": "raw"
    }
   },
   "source": [
    "model = 'M4'\n",
    "es = np.array(parameters[model]['real_params'])\n",
    "print(f\"es: {es}\")\n",
    "\n",
    "cures = np.array([parameters[model]['real_params'][i] for i in model_specs[model]['indices']])\n",
    "print(f\"cures : {cures}\")\n",
    "range(10)"
   ]
  },
  {
   "cell_type": "markdown",
   "metadata": {},
   "source": [
    "### Simulation repliquée"
   ]
  },
  {
   "cell_type": "code",
   "execution_count": 5,
   "metadata": {},
   "outputs": [],
   "source": [
    "#nombre de replications\n",
    "nrep = 200"
   ]
  },
  {
   "cell_type": "code",
   "execution_count": 6,
   "metadata": {},
   "outputs": [],
   "source": [
    "#on va faire des replications pour des tailles de series differentes\n",
    "sizes = [200, 500, 1000]"
   ]
  },
  {
   "cell_type": "code",
   "execution_count": 7,
   "metadata": {},
   "outputs": [],
   "source": [
    "#on cree un sous fichier pour y sauvegarder les replications\n",
    "base_folder = \"replications\"\n",
    "os.makedirs(base_folder, exist_ok=True)"
   ]
  },
  {
   "cell_type": "raw",
   "metadata": {
    "vscode": {
     "languageId": "raw"
    }
   },
   "source": [
    "#on boucle pour chaque set de parametres\n",
    "for model, params in parameters.items():\n",
    "    #on cree un subfolder pour chaque modele\n",
    "    model_folder = os.path.join(base_folder, model)\n",
    "    os.makedirs(model_folder, exist_ok=True)\n",
    "    #on boucle pour chaque taille\n",
    "    for size in sizes:\n",
    "        # on cree un subsubfolder avec chaque taille\n",
    "        size_folder = os.path.join(model_folder, f\"size_{size}\")\n",
    "        os.makedirs(size_folder, exist_ok=True)\n",
    "        for i in range(1, nrep + 1):\n",
    "            y = BPstarmodel(params['A'], params['B'], params['omeg'], size, params['delt'])\n",
    "            filename = f\"databp_{str(i).zfill(3)}.csv\"  # Index the filename with 3 digits\n",
    "            filepath = os.path.join(size_folder, filename)  # Combine size folder and filename\n",
    "            np.savetxt(filepath, y.T, delimiter=\",\")  # Save the transposed array to the file\n",
    "            print(f\"Saved {filepath}\")\n",
    "\n"
   ]
  },
  {
   "cell_type": "markdown",
   "metadata": {},
   "source": [
    "### Estimation des replications"
   ]
  },
  {
   "cell_type": "raw",
   "metadata": {
    "vscode": {
     "languageId": "raw"
    }
   },
   "source": [
    "RepEst = np.zeros((10, nrep))\n",
    "np.shape(RepEst)"
   ]
  },
  {
   "cell_type": "raw",
   "metadata": {
    "vscode": {
     "languageId": "raw"
    }
   },
   "source": [
    "#Estimation\n",
    "base_folder = \"replications\"\n",
    "for model in parameters: #on va parcourir les modeles\n",
    "    model_folder = os.path.join(base_folder, model)        \n",
    "    print(model_folder)\n",
    "    for size in sizes: #on regarde les tailles des series\n",
    "        size_folder = os.path.join(model_folder, f\"size_{size}\")\n",
    "        print(size_folder)\n",
    "        RepEst = np.zeros((10,nrep))\n",
    "        for i in range(1,nrep+1):\n",
    "            filename = f\"databp_{str(i).zfill(3)}.csv\"\n",
    "            filepath = os.path.join(size_folder, filename)\n",
    "            if os.path.exists(filepath):\n",
    "                data = np.loadtxt(filepath, delimiter=',')\n",
    "                print(f\"loaded model: {model}, size: {size}, replication: {filename} with shape {data.shape}\")\n",
    "                omega, A, B = estimate_model(data, 3)\n",
    "                print(f\"model estimated from data {model} {size} :{str(i).zfill(3)}\")\n",
    "                RepEst[0,i-1], RepEst[5,i-1] = omega[0], omega[1]\n",
    "                RepEst[1,i-1], RepEst[2,i-1] = A[0,0], A[0,1]\n",
    "                RepEst[6,i-1], RepEst[7,i-1] = A[1,0], A[1,1]\n",
    "                RepEst[3,i-1], RepEst[4,i-1] = B[0,0], B[0,1]\n",
    "                RepEst[8,i-1], RepEst[9,i-1] = B[1,0], B[1,1]\n",
    "                estimname = f\"repestim_{model}_{size}.csv\"\n",
    "                estimpath = os.path.join(size_folder, estimname)\n",
    "                np.savetxt(estimpath, RepEst, delimiter=\",\")\n",
    "                print(f\"estimation saved to {estimpath}\")\n",
    "                \n",
    "            else:\n",
    "                print(f\"File {filename} does not exist.\")\n"
   ]
  },
  {
   "cell_type": "markdown",
   "metadata": {},
   "source": [
    "### Statistiques sur les estimations\n"
   ]
  },
  {
   "cell_type": "markdown",
   "metadata": {},
   "source": [
    "generation d'un fichier csv modelestim_{model}_{size}.csv qui a la bonne taille de parametres "
   ]
  },
  {
   "cell_type": "raw",
   "metadata": {
    "vscode": {
     "languageId": "raw"
    }
   },
   "source": [
    "for model in parameters:\n",
    "    for size in sizes:\n",
    "        model_folder = os.path.join(base_folder, model)\n",
    "        size_folder = os.path.join(model_folder, f\"size_{size}\")\n",
    "        filename = f\"repestim_{model}_{size}.csv\"\n",
    "        filepath = os.path.join(size_folder, filename)\n",
    "\n",
    "        repestim = np.loadtxt(filepath, delimiter=',')\n",
    "        print(f\"loaded data: {filepath} with shape {np.shape(repestim)}\")\n",
    "        #on defini les vecteurs d'estimation specifiques aux modeles avec les parametres d'interet seulement\n",
    "        \n",
    "        current_estim = np.array([repestim[i,:] for i in model_specs[model]['indices']])\n",
    "        current_realpar = np.array([parameters[model]['real_params'][i] for i in model_specs[model]['indices']])\n",
    "        meanest = current_estim.mean(axis=1)\n",
    "        stdest = current_estim.std(axis=1)\n",
    "        minest = current_estim.min(axis=1)\n",
    "        maxest = current_estim.max(axis=1)\n",
    "        medianest = np.median(current_estim, axis=1)\n",
    "\n",
    "\n",
    "        festimname = f\"modelestim_{model}_{size}.csv\"\n",
    "        festimpath = os.path.join(size_folder,festimname)\n",
    "\n",
    "        np.savetxt(festimpath, current_estim, delimiter=\",\")\n",
    "        print(f\"saved final size estimation to: {festimname} with shape {np.shape(current_estim)}\")\n",
    "        \n",
    "        # Create DataFrame\n",
    "        estimstat = pd.DataFrame({\n",
    "            'Parameter': [f'Parameter {i+1}' for i in range(current_estim.shape[0])], # parameter names\n",
    "            'Mean': meanest,\n",
    "            'Median': medianest,\n",
    "            'Std': stdest,\n",
    "            'Min': minest,\n",
    "            'Max': maxest,\n",
    "            'Real Value': current_realpar  \n",
    "        })\n",
    "        # Save DataFrame\n",
    "        estimstat_filename = f\"estimstat_{model}_{size}.csv\"\n",
    "        estimstat_filepath = os.path.join(size_folder, estimstat_filename)\n",
    "        estimstat.to_csv(estimstat_filepath, index=False)  # Save without row indices\n",
    "        print(f\"Saved statistics DataFrame to: {estimstat_filename}\")\n"
   ]
  },
  {
   "cell_type": "markdown",
   "metadata": {},
   "source": [
    "### Boxplot"
   ]
  },
  {
   "cell_type": "raw",
   "metadata": {
    "vscode": {
     "languageId": "raw"
    }
   },
   "source": [
    "figures_folder = os.path.join(\"figures\", \"boxplots\")  # Subfolder path\n",
    "os.makedirs(figures_folder, exist_ok=True)\n",
    "\n",
    "base_folder = \"replications\"\n",
    "sizes = [200, 500, 1000]\n",
    "\n",
    "\n",
    "\n",
    "for model in parameters:\n",
    "    for size in sizes:\n",
    "        model_folder = os.path.join(base_folder, model)\n",
    "        size_folder = os.path.join(model_folder, f\"size_{size}\")\n",
    "\n",
    "        # Load parameter data (not a DataFrame, just raw data)\n",
    "        filename = f\"modelestim_{model}_{size}.csv\"\n",
    "        filepath = os.path.join(size_folder, filename)\n",
    "        parameter_data = np.loadtxt(filepath, delimiter=',')\n",
    "\n",
    "        # Load statistics DataFrame \n",
    "        estimstat_filename = f\"estimstat_{model}_{size}.csv\"\n",
    "        estimstat_filepath = os.path.join(size_folder, estimstat_filename)\n",
    "        estimstat = pd.read_csv(estimstat_filepath)\n",
    "\n",
    "        num_params = parameter_data.shape[0]  # Number of parameters\n",
    "\n",
    "        # Create box plots\n",
    "        fig, axs = plt.subplots(num_params, 1, figsize=(8, 2 * num_params), sharex=True)\n",
    "        for i in range(num_params):\n",
    "            axs[i].boxplot(parameter_data[i, :], vert=False, patch_artist=True)\n",
    "            axs[i].axvline(x=estimstat['Real Value'][i], color='r', linestyle='-', linewidth=1, label='Vraie valeur')\n",
    "            axs[i].set_title(f'Paramètre {i+1}')\n",
    "            axs[i].legend()\n",
    "\n",
    "        fig.suptitle(f\"{model} (n = {size})\", fontsize=16)\n",
    "        plt.xlabel('Valeurs')\n",
    "        plt.tight_layout(rect=[0, 0, 1, 0.96]) \n",
    "\n",
    "\n",
    "        # Save the plot to the \"figures/boxplots\" folder\n",
    "        plot_filename = f\"boxplot_{model}_{size}.png\"\n",
    "        plot_filepath = os.path.join(figures_folder, plot_filename) \n",
    "        plt.savefig(plot_filepath)\n",
    "        plt.close(fig) \n",
    "\n",
    "        print(f\"Saved box plot to: {plot_filepath}\")"
   ]
  },
  {
   "cell_type": "markdown",
   "metadata": {},
   "source": [
    "### Erreurs MADE et MSE"
   ]
  },
  {
   "cell_type": "code",
   "execution_count": 24,
   "metadata": {},
   "outputs": [
    {
     "data": {
      "text/plain": [
       "array([ 1,  9, 25])"
      ]
     },
     "execution_count": 24,
     "metadata": {},
     "output_type": "execute_result"
    }
   ],
   "source": [
    "a = np.array([2,4,6])\n",
    "b = np.array([1,1,1])\n",
    "(a-b)**2"
   ]
  },
  {
   "cell_type": "code",
   "execution_count": 8,
   "metadata": {},
   "outputs": [],
   "source": [
    "# Create a dictionary to store MADE and MSE for each model and size\n",
    "errors = {}"
   ]
  },
  {
   "cell_type": "code",
   "execution_count": 15,
   "metadata": {},
   "outputs": [
    {
     "name": "stdout",
     "output_type": "stream",
     "text": [
      "loaded data: modelestim_M1_200.csv with shape (10, 200)\n",
      "param reels: [0.5 0.3 0.2 0.1 0.2 0.3 0.1 0.3 0.3 0.2]\n",
      "MADE = [0.32201392 0.30236081 0.25311604 0.05891005 0.42772159 0.3057536\n",
      " 0.29185527 0.24012802 0.42264402 0.05961815]\n",
      "MSE = [0.21268557 0.15393967 0.10578232 0.00526124 0.31627363 0.17113919\n",
      " 0.15202638 0.09888855 0.30445629 0.00590776]\n",
      "saved MADE error for model M1 with size 200 to replications\\M1\\size_200\\MADE_M1_200.csv\n",
      "saved MSE error for model M1 with size 200 to replications\\M1\\size_200\\MSE_M1_200.csv\n",
      "loaded data: modelestim_M1_500.csv with shape (10, 200)\n",
      "param reels: [0.5 0.3 0.2 0.1 0.2 0.3 0.1 0.3 0.3 0.2]\n",
      "MADE = [0.20333921 0.19034426 0.15523206 0.03906004 0.29975802 0.20250586\n",
      " 0.21354307 0.16986268 0.29309683 0.03900639]\n",
      "MSE = [0.07735054 0.06904439 0.04462939 0.00227007 0.15242006 0.0759698\n",
      " 0.07907779 0.04828518 0.1461007  0.00230483]\n",
      "saved MADE error for model M1 with size 500 to replications\\M1\\size_500\\MADE_M1_500.csv\n",
      "saved MSE error for model M1 with size 500 to replications\\M1\\size_500\\MSE_M1_500.csv\n",
      "loaded data: modelestim_M1_1000.csv with shape (10, 200)\n",
      "param reels: [0.5 0.3 0.2 0.1 0.2 0.3 0.1 0.3 0.3 0.2]\n",
      "MADE = [0.1310687  0.18059589 0.1522022  0.02665781 0.2516751  0.14036811\n",
      " 0.17314173 0.14665159 0.24472848 0.02717183]\n",
      "MSE = [0.0290307  0.05291348 0.0372651  0.00106939 0.1069047  0.03128592\n",
      " 0.05186287 0.03611109 0.10157101 0.00113361]\n",
      "saved MADE error for model M1 with size 1000 to replications\\M1\\size_1000\\MADE_M1_1000.csv\n",
      "saved MSE error for model M1 with size 1000 to replications\\M1\\size_1000\\MSE_M1_1000.csv\n",
      "loaded data: modelestim_M2_200.csv with shape (6, 200)\n",
      "param reels: [0.3 0.2 0.5 0.5 0.4 0.3]\n",
      "MADE = [0.2135034  0.12923347 0.08827931 0.25369293 0.15331388 0.06389898]\n",
      "MSE = [0.07788904 0.02760134 0.01197761 0.1055818  0.04035828 0.00626873]\n",
      "saved MADE error for model M2 with size 200 to replications\\M2\\size_200\\MADE_M2_200.csv\n",
      "saved MSE error for model M2 with size 200 to replications\\M2\\size_200\\MSE_M2_200.csv\n",
      "loaded data: modelestim_M2_500.csv with shape (6, 200)\n",
      "param reels: [0.3 0.2 0.5 0.5 0.4 0.3]\n",
      "MADE = [0.11746351 0.07908159 0.05015743 0.14710373 0.10022298 0.04406673]\n",
      "MSE = [0.02175642 0.01035178 0.0038776  0.0334687  0.01514774 0.00287337]\n",
      "saved MADE error for model M2 with size 500 to replications\\M2\\size_500\\MADE_M2_500.csv\n",
      "saved MSE error for model M2 with size 500 to replications\\M2\\size_500\\MSE_M2_500.csv\n",
      "loaded data: modelestim_M2_1000.csv with shape (6, 200)\n",
      "param reels: [0.3 0.2 0.5 0.5 0.4 0.3]\n",
      "MADE = [0.08144013 0.05800126 0.035955   0.09204471 0.06830194 0.02842977]\n",
      "MSE = [0.01105484 0.00511162 0.00197942 0.01428357 0.00751861 0.00131672]\n",
      "saved MADE error for model M2 with size 1000 to replications\\M2\\size_1000\\MADE_M2_1000.csv\n",
      "saved MSE error for model M2 with size 1000 to replications\\M2\\size_1000\\MSE_M2_1000.csv\n",
      "loaded data: modelestim_M3_200.csv with shape (8, 200)\n",
      "param reels: [0.3 0.2 0.5 0.1 0.5 0.4 0.3 0.2]\n",
      "MADE = [0.21241464 0.21171683 0.07131922 0.43692923 0.30068754 0.29312579\n",
      " 0.44475595 0.06555063]\n",
      "MSE = [0.07272662 0.07454228 0.00801205 0.30407124 0.16013785 0.14457413\n",
      " 0.30658235 0.00658642]\n",
      "saved MADE error for model M3 with size 200 to replications\\M3\\size_200\\MADE_M3_200.csv\n",
      "saved MSE error for model M3 with size 200 to replications\\M3\\size_200\\MSE_M3_200.csv\n",
      "loaded data: modelestim_M3_500.csv with shape (8, 200)\n",
      "param reels: [0.3 0.2 0.5 0.1 0.5 0.4 0.3 0.2]\n",
      "MADE = [0.13357203 0.1469083  0.04210643 0.3374395  0.16890081 0.19362503\n",
      " 0.34624505 0.04015957]\n",
      "MSE = [0.02829128 0.03348328 0.00282276 0.1582681  0.05504717 0.0636311\n",
      " 0.16664537 0.00258957]\n",
      "saved MADE error for model M3 with size 500 to replications\\M3\\size_500\\MADE_M3_500.csv\n",
      "saved MSE error for model M3 with size 500 to replications\\M3\\size_500\\MSE_M3_500.csv\n",
      "loaded data: modelestim_M3_1000.csv with shape (8, 200)\n",
      "param reels: [0.3 0.2 0.5 0.1 0.5 0.4 0.3 0.2]\n",
      "MADE = [0.10190167 0.104117   0.02919217 0.27125531 0.12083856 0.12895211\n",
      " 0.27811746 0.02969363]\n",
      "MSE = [0.01623262 0.0178659  0.00141682 0.10611995 0.02582608 0.02791606\n",
      " 0.1112545  0.00137763]\n",
      "saved MADE error for model M3 with size 1000 to replications\\M3\\size_1000\\MADE_M3_1000.csv\n",
      "saved MSE error for model M3 with size 1000 to replications\\M3\\size_1000\\MSE_M3_1000.csv\n",
      "loaded data: modelestim_M4_200.csv with shape (8, 200)\n",
      "param reels: [0.5 0.2 0.3 0.2 0.3 0.4 0.2 0.3]\n",
      "MADE = [0.43102445 0.24473673 0.17768587 0.06460887 0.52341536 0.2516854\n",
      " 0.18367576 0.06575568]\n",
      "MSE = [0.30901278 0.09563992 0.05370217 0.00643028 0.49786818 0.10385242\n",
      " 0.05535379 0.00643781]\n",
      "saved MADE error for model M4 with size 200 to replications\\M4\\size_200\\MADE_M4_200.csv\n",
      "saved MSE error for model M4 with size 200 to replications\\M4\\size_200\\MSE_M4_200.csv\n",
      "loaded data: modelestim_M4_500.csv with shape (8, 200)\n",
      "param reels: [0.5 0.2 0.3 0.2 0.3 0.4 0.2 0.3]\n",
      "MADE = [0.25621986 0.14210353 0.10220259 0.03739252 0.28609871 0.1652789\n",
      " 0.12368261 0.03788758]\n",
      "MSE = [0.11185135 0.03369127 0.01640784 0.0021753  0.13203895 0.04315267\n",
      " 0.02391319 0.00241613]\n",
      "saved MADE error for model M4 with size 500 to replications\\M4\\size_500\\MADE_M4_500.csv\n",
      "saved MSE error for model M4 with size 500 to replications\\M4\\size_500\\MSE_M4_500.csv\n",
      "loaded data: modelestim_M4_1000.csv with shape (8, 200)\n",
      "param reels: [0.5 0.2 0.3 0.2 0.3 0.4 0.2 0.3]\n",
      "MADE = [0.18681672 0.11275573 0.07582943 0.0258059  0.18776008 0.11419428\n",
      " 0.08101177 0.02629584]\n",
      "MSE = [0.05364125 0.01919193 0.00859527 0.00110648 0.05746024 0.0197069\n",
      " 0.01034797 0.00105623]\n",
      "saved MADE error for model M4 with size 1000 to replications\\M4\\size_1000\\MADE_M4_1000.csv\n",
      "saved MSE error for model M4 with size 1000 to replications\\M4\\size_1000\\MSE_M4_1000.csv\n"
     ]
    }
   ],
   "source": [
    "for model in parameters:\n",
    "    errors[model] = {'MADE': [], 'MSE': []} #add to the dictionary\n",
    "    model_folder = os.path.join(base_folder, model)\n",
    "    for size in sizes:\n",
    "        size_folder = os.path.join(model_folder, f\"size_{size}\")\n",
    "        filename = f\"modelestim_{model}_{size}.csv\"\n",
    "        filepath = os.path.join(size_folder, filename)\n",
    "        data = np.loadtxt(filepath, delimiter=',')\n",
    "        print(f\"loaded data: {filename} with shape {np.shape(data)}\")\n",
    "        # Load the statistics DataFrame\n",
    "        estimstat_filename = f\"estimstat_{model}_{size}.csv\"\n",
    "        estimstat_filepath = os.path.join(size_folder, estimstat_filename)\n",
    "        estimstat_df = pd.read_csv(estimstat_filepath)\n",
    "        # Access the 'Real Value' column\n",
    "        real_par = estimstat_df['Real Value'].values\n",
    "        #'Real Value' column as a NumPy array\n",
    "        print(f\"param reels: {real_par}\")\n",
    "        #on a besoin de charger cette colonne qu'a chaque iteration du modele en verité\n",
    "        MADE = np.zeros(len(real_par)) # Initialize MADE\n",
    "        MSE = np.zeros(len(real_par))  # Initialize MSE\n",
    "        for i in range(nrep):\n",
    "            MADE += abs(data[:,i]-real_par) / nrep\n",
    "            MSE += ((data[:,i]-real_par)**2) / nrep\n",
    "        print(f\"MADE = {MADE}\")\n",
    "        print(f\"MSE = {MSE}\")\n",
    "        #add to dictionary\n",
    "        errors[model]['MADE'].append(MADE)\n",
    "        errors[model]['MSE'].append(MSE)\n",
    "\n",
    "        errorname = f\"MADE_{model}_{size}.csv\"\n",
    "        errorpath = os.path.join(size_folder, errorname)\n",
    "        np.savetxt(errorpath, MADE, delimiter=',')\n",
    "        print(f\"saved MADE error for model {model} with size {size} to {errorpath}\")\n",
    "        errorname = f\"MSE_{model}_{size}.csv\"\n",
    "        errorpath = os.path.join(size_folder, errorname)\n",
    "        np.savetxt(errorpath, MSE, delimiter=',')\n",
    "        print(f\"saved MSE error for model {model} with size {size} to {errorpath}\")\n",
    "    \n",
    "        \n",
    "        "
   ]
  },
  {
   "cell_type": "code",
   "execution_count": 9,
   "metadata": {},
   "outputs": [
    {
     "name": "stdout",
     "output_type": "stream",
     "text": [
      "{}\n"
     ]
    }
   ],
   "source": [
    "print(errors)"
   ]
  },
  {
   "cell_type": "markdown",
   "metadata": {},
   "source": [
    "#### Graphes des erreurs"
   ]
  },
  {
   "cell_type": "code",
   "execution_count": 17,
   "metadata": {},
   "outputs": [
    {
     "name": "stdout",
     "output_type": "stream",
     "text": [
      "saved figure to figures\\errors errors_model_M1.png\n",
      "saved figure to figures\\errors errors_model_M2.png\n",
      "saved figure to figures\\errors errors_model_M3.png\n",
      "saved figure to figures\\errors errors_model_M4.png\n"
     ]
    }
   ],
   "source": [
    "# Create the figures/errors directory if it doesn't exist\n",
    "output_dir = os.path.join(\"figures\", \"errors\")\n",
    "os.makedirs(output_dir, exist_ok=True)\n",
    "# Plotting\n",
    "for model in parameters:\n",
    "    num_params = len(errors[model]['MADE'][0])\n",
    "    fig, axes = plt.subplots(num_params, 1, figsize=(4.25, 2 * num_params), sharex=True)\n",
    "    fig.suptitle(f\"MADE and MSE for Model {model}\", fontsize=10)\n",
    "\n",
    "    bar_width = 0.3 \n",
    "\n",
    "    # Create the legend handles and labels only once\n",
    "    handles = []\n",
    "    labels = []\n",
    "\n",
    "    for p in range(num_params):\n",
    "        ax = axes[p]\n",
    "        made_values = [errors[model]['MADE'][s][p] for s in range(len(sizes))]\n",
    "        mse_values = [errors[model]['MSE'][s][p] for s in range(len(sizes))]\n",
    "\n",
    "        bar1 = ax.bar(np.arange(len(sizes)), made_values, bar_width, label='MADE')\n",
    "        bar2 = ax.bar(np.arange(len(sizes)) + bar_width, mse_values, bar_width, label='MSE')\n",
    "\n",
    "        ax.set_xticks(np.arange(len(sizes)) + bar_width / 2)\n",
    "\n",
    "        # Only set x-axis label for the bottom subplot\n",
    "        if p == num_params - 1:\n",
    "            ax.set_xticklabels(sizes, fontsize=8)\n",
    "            ax.set_xlabel(\"Sample Size\", fontsize=8) \n",
    "        else:\n",
    "            ax.set_xticklabels([]) # Remove x-tick labels for other subplots\n",
    "\n",
    "        ax.set_ylabel(f\"Error (Parameter {p+1})\", fontsize=8)\n",
    "\n",
    "        # Remove spines\n",
    "        ax.spines['top'].set_visible(False)\n",
    "        ax.spines['right'].set_visible(False)\n",
    "\n",
    "        # Add horizontal dotted line separator (optional)\n",
    "        if p < num_params - 1:\n",
    "            ax.axhline(ax.get_ylim()[1], color='gray', linestyle='dotted', linewidth=0.8)\n",
    "\n",
    "        # Collect handles and labels for the legend (only once)\n",
    "        if p == 0:\n",
    "            handles.append(bar1)\n",
    "            handles.append(bar2)\n",
    "            labels.append('MADE')\n",
    "            labels.append('MSE')\n",
    "\n",
    "    # Place the legend outside the plot\n",
    "    fig.legend(handles, labels, loc='upper right', bbox_to_anchor=(1, 0.95), fontsize=8)\n",
    "\n",
    "    # Save the figure\n",
    "    plt.tight_layout()\n",
    "    plt.subplots_adjust(top=0.90, bottom=0.1, hspace=0.3, right=0.8)\n",
    "    outputname = f\"errors_model_{model}.png\" \n",
    "    fig.savefig(os.path.join(output_dir, outputname))\n",
    "    print(f\"saved figure to {output_dir} {outputname}\")\n",
    "    plt.close(fig) # Close the figure to free up memory"
   ]
  },
  {
   "cell_type": "code",
   "execution_count": 10,
   "metadata": {},
   "outputs": [
    {
     "name": "stdout",
     "output_type": "stream",
     "text": [
      "Updated and saved DataFrame to: replications\\M1\\size_200\\estimstat_M1_200.csv\n",
      "Updated and saved DataFrame to: replications\\M1\\size_500\\estimstat_M1_500.csv\n",
      "Updated and saved DataFrame to: replications\\M1\\size_1000\\estimstat_M1_1000.csv\n",
      "Updated and saved DataFrame to: replications\\M2\\size_200\\estimstat_M2_200.csv\n",
      "Updated and saved DataFrame to: replications\\M2\\size_500\\estimstat_M2_500.csv\n",
      "Updated and saved DataFrame to: replications\\M2\\size_1000\\estimstat_M2_1000.csv\n",
      "Updated and saved DataFrame to: replications\\M3\\size_200\\estimstat_M3_200.csv\n",
      "Updated and saved DataFrame to: replications\\M3\\size_500\\estimstat_M3_500.csv\n",
      "Updated and saved DataFrame to: replications\\M3\\size_1000\\estimstat_M3_1000.csv\n",
      "Updated and saved DataFrame to: replications\\M4\\size_200\\estimstat_M4_200.csv\n",
      "Updated and saved DataFrame to: replications\\M4\\size_500\\estimstat_M4_500.csv\n",
      "Updated and saved DataFrame to: replications\\M4\\size_1000\\estimstat_M4_1000.csv\n"
     ]
    }
   ],
   "source": [
    "for model in parameters:\n",
    "    model_folder = os.path.join(base_folder, model)\n",
    "    for size in sizes:\n",
    "        size_folder = os.path.join(model_folder, f\"size_{size}\")\n",
    "        \n",
    "        # Load existing DataFrames\n",
    "        estimstat_filename = f\"estimstat_{model}_{size}.csv\"\n",
    "        estimstat_filepath = os.path.join(size_folder, estimstat_filename)\n",
    "        estimstat_df = pd.read_csv(estimstat_filepath)\n",
    "\n",
    "        error_data = {'MADE': [], 'MSE': []}\n",
    "        for error_type in ['MADE', 'MSE']:\n",
    "            error_filename = f\"{error_type}_{model}_{size}.csv\"\n",
    "            error_filepath = os.path.join(size_folder, error_filename)\n",
    "            error_data[error_type] = np.loadtxt(error_filepath, delimiter=',')\n",
    "\n",
    "        # Add MADE and MSE to the DataFrame\n",
    "        estimstat_df['MADE'] = error_data['MADE']\n",
    "        estimstat_df['MSE'] = error_data['MSE']\n",
    "        \n",
    "        # Save the updated DataFrame\n",
    "        estimstat_df.to_csv(estimstat_filepath, index=False)\n",
    "        print(f\"Updated and saved DataFrame to: {estimstat_filepath}\")"
   ]
  },
  {
   "cell_type": "code",
   "execution_count": 15,
   "metadata": {},
   "outputs": [
    {
     "name": "stdout",
     "output_type": "stream",
     "text": [
      "Combined data for model M1 saved to: replications\\M1\\combined_data_M1.csv\n",
      "Combined data for model M2 saved to: replications\\M2\\combined_data_M2.csv\n",
      "Combined data for model M3 saved to: replications\\M3\\combined_data_M3.csv\n",
      "Combined data for model M4 saved to: replications\\M4\\combined_data_M4.csv\n"
     ]
    }
   ],
   "source": [
    "import pandas as pd\n",
    "import os\n",
    "\n",
    "base_folder = \"replications\"  # Or wherever your data is stored\n",
    "sizes = [200, 500, 1000]\n",
    "\n",
    "for model in parameters:\n",
    "    all_data = []  # List to store DataFrames for different sizes\n",
    "\n",
    "    for size in sizes:\n",
    "        # Load existing DataFrame for the current size\n",
    "        size_folder = os.path.join(base_folder, model, f\"size_{size}\")\n",
    "        estimstat_filename = f\"estimstat_{model}_{size}.csv\"\n",
    "        estimstat_filepath = os.path.join(size_folder, estimstat_filename)\n",
    "        estimstat_df = pd.read_csv(estimstat_filepath)\n",
    "\n",
    "        # Add a 'Size' column to the DataFrame\n",
    "        estimstat_df['Size'] = size  \n",
    "\n",
    "        # Append the DataFrame to the list\n",
    "        all_data.append(estimstat_df) \n",
    "\n",
    "    # Concatenate all DataFrames into a single DataFrame\n",
    "    combined_df = pd.concat(all_data, ignore_index=True) \n",
    "\n",
    "    # Save the combined DataFrame to a new CSV file\n",
    "    combined_filename = f\"combined_data_{model}.csv\"\n",
    "    combined_filepath = os.path.join(base_folder, model, combined_filename)\n",
    "    combined_df.to_csv(combined_filepath, index=False)  \n",
    "\n",
    "    print(f\"Combined data for model {model} saved to: {combined_filepath}\")"
   ]
  }
 ],
 "metadata": {
  "kernelspec": {
   "display_name": "Python 3",
   "language": "python",
   "name": "python3"
  },
  "language_info": {
   "codemirror_mode": {
    "name": "ipython",
    "version": 3
   },
   "file_extension": ".py",
   "mimetype": "text/x-python",
   "name": "python",
   "nbconvert_exporter": "python",
   "pygments_lexer": "ipython3",
   "version": "3.11.5"
  }
 },
 "nbformat": 4,
 "nbformat_minor": 2
}
