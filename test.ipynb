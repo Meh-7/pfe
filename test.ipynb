{
 "cells": [
  {
   "cell_type": "code",
   "execution_count": 22,
   "metadata": {},
   "outputs": [],
   "source": [
    "import numpy as np\n",
    "import matplotlib.pyplot as plt\n",
    "from BPdist import BPstar\n",
    "from BPmodel import BPstarmodel\n",
    "import os"
   ]
  },
  {
   "cell_type": "code",
   "execution_count": 27,
   "metadata": {},
   "outputs": [],
   "source": [
    "lam1 = 5\n",
    "lam2 = 3\n",
    "delt = 1\n",
    "n = 200\n",
    "\n",
    "sample = np.zeros((2, n))\n",
    "for i in range(n):\n",
    "    y = BPstar(lam1, lam2, delt)\n",
    "    sample[:, i] = y.flatten()"
   ]
  },
  {
   "cell_type": "code",
   "execution_count": 28,
   "metadata": {},
   "outputs": [],
   "source": [
    "filename = 'distsample.csv'\n",
    "np.savetxt(filename, sample, delimiter=\",\")"
   ]
  },
  {
   "cell_type": "code",
   "execution_count": null,
   "metadata": {},
   "outputs": [],
   "source": [
    "#initialisations des parametres du modele pour simulation\n",
    "A = np.array([[0.3, 0.2],[0.1, 0.3]])\n",
    "B = np.array([[0.1, 0.2],[0.3, 0.2]])\n",
    "omeg = np.array([0.5, 0.3])\n",
    "delt = 0.4\n",
    "n = 200 #longeure de la trajectoire\n",
    "y = BPstarmodel(A, B, omeg, n, delt) #simuler une trajectoire\n",
    "np.savetxt(\"databp1.csv\", y.T, delimiter=\",\")"
   ]
  },
  {
   "cell_type": "code",
   "execution_count": null,
   "metadata": {},
   "outputs": [],
   "source": [
    "#initialisations des parametres du modele pour simulation\n",
    "A = np.array([[0.3, 0],[0, 0.3]])\n",
    "B = np.array([[0.1, 0],[0, 0.2]])\n",
    "omeg = np.array([0.5, 0.3])\n",
    "delt = 0.4\n",
    "n = 200 #longeure de la trajectoire\n",
    "y = BPstarmodel(A, B, omeg, n, delt) #simuler une trajectoire\n",
    "np.savetxt(\"databp2.csv\", y.T, delimiter=\",\")"
   ]
  }
 ],
 "metadata": {
  "kernelspec": {
   "display_name": "base",
   "language": "python",
   "name": "python3"
  },
  "language_info": {
   "codemirror_mode": {
    "name": "ipython",
    "version": 3
   },
   "file_extension": ".py",
   "mimetype": "text/x-python",
   "name": "python",
   "nbconvert_exporter": "python",
   "pygments_lexer": "ipython3",
   "version": "3.11.5"
  }
 },
 "nbformat": 4,
 "nbformat_minor": 2
}
